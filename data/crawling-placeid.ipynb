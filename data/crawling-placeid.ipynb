{
 "cells": [
  {
   "cell_type": "code",
   "execution_count": 1,
   "metadata": {},
   "outputs": [],
   "source": [
    "import pandas as pd"
   ]
  },
  {
   "cell_type": "code",
   "execution_count": 6,
   "metadata": {},
   "outputs": [
    {
     "name": "stdout",
     "output_type": "stream",
     "text": [
      "Index(['YM', 'MCT_NM', 'OP_YMD', 'MCT_TYPE', 'ADDR', 'UE_CNT_GRP',\n",
      "       'UE_AMT_GRP', 'UE_AMT_PER_TRSN_GRP', 'MON_UE_CNT_RAT', 'TUE_UE_CNT_RAT',\n",
      "       'WED_UE_CNT_RAT', 'THU_UE_CNT_RAT', 'FRI_UE_CNT_RAT', 'SAT_UE_CNT_RAT',\n",
      "       'SUN_UE_CNT_RAT', 'HR_5_11_UE_CNT_RAT', 'HR_12_13_UE_CNT_RAT',\n",
      "       'HR_14_17_UE_CNT_RAT', 'HR_18_22_UE_CNT_RAT', 'HR_23_4_UE_CNT_RAT',\n",
      "       'LOCAL_UE_CNT_RAT', 'RC_M12_MAL_CUS_CNT_RAT', 'RC_M12_FME_CUS_CNT_RAT',\n",
      "       'RC_M12_AGE_UND_20_CUS_CNT_RAT', 'RC_M12_AGE_30_CUS_CNT_RAT',\n",
      "       'RC_M12_AGE_40_CUS_CNT_RAT', 'RC_M12_AGE_50_CUS_CNT_RAT',\n",
      "       'RC_M12_AGE_OVR_60_CUS_CNT_RAT', 'key', 'MCT_NAVER_NAME', 'placeID',\n",
      "       '휴업일', '영업시간', '전화번호', '메뉴', 'ADDR_filtered', '시설정보', '주차정보', '좌석',\n",
      "       '결제', '분류', 'review'],\n",
      "      dtype='object')\n"
     ]
    }
   ],
   "source": [
    "csv = pd.read_csv(\"./Final_Data_add_etc.csv\")\n",
    "print(csv.columns)"
   ]
  },
  {
   "cell_type": "code",
   "execution_count": 12,
   "metadata": {},
   "outputs": [
    {
     "name": "stdout",
     "output_type": "stream",
     "text": [
      "                         Combined\n",
      "0     한국수상레저안전협회 제주제주시지부 제주시 이호일동\n",
      "2              케이디에셋 담앤루 서귀포시 대포동\n",
      "4       비케이알 버거킹 제주화북DT점 제주시 화북일동\n",
      "5                 성우디엔에프 서귀포시 강정동\n",
      "6     신세계푸드 제주신화월드  고래라면 서귀포시 안덕면\n",
      "...                           ...\n",
      "9245                   히로 제주시 조천읍\n",
      "9247                   히아담 제주시 연동\n",
      "9248           히치하이커스라운지 제주시 이도이동\n",
      "9250                  힘찬장어 제주시 연동\n",
      "9251                   힛업 제주시 노형동\n",
      "\n",
      "[6672 rows x 1 columns]\n"
     ]
    }
   ],
   "source": [
    "import pandas as pd\n",
    "import re\n",
    "\n",
    "# CSV 파일 읽기\n",
    "csv = pd.read_csv(\"./Final_Data_add_etc.csv\")\n",
    "\n",
    "# placeID가 존재하지 않는 행 필터링\n",
    "missing_placeID = csv[csv['placeID'].isna()]\n",
    "\n",
    "# MCT_NM과 ADDR 열 선택\n",
    "missing_placeID = missing_placeID[['MCT_NM', 'ADDR']]\n",
    "\n",
    "# MCT_NM에서 괄호와 괄호 속 문자열 제거\n",
    "missing_placeID['MCT_NM'] = missing_placeID['MCT_NM'].apply(\n",
    "    lambda x: re.sub(r'\\s*\\(.*?\\)\\s*', '', x))\n",
    "\n",
    "# ADDR에서 띄어쓰기 기준으로 1번 인덱스와 2번 인덱스만 선택\n",
    "missing_placeID['ADDR'] = missing_placeID['ADDR'].apply(\n",
    "    lambda x: ' '.join(x.split()[1:3]) if len(x.split()) > 2 else x)\n",
    "\n",
    "# MCT_NM과 ADDR을 하나의 문자열로 결합\n",
    "missing_placeID['Combined'] = missing_placeID['MCT_NM'] + \\\n",
    "    ' ' + missing_placeID['ADDR']\n",
    "\n",
    "search_string = missing_placeID[['Combined']]\n",
    "\n",
    "# 결과 출력\n",
    "print(search_string)"
   ]
  },
  {
   "cell_type": "code",
   "execution_count": null,
   "metadata": {},
   "outputs": [],
   "source": []
  }
 ],
 "metadata": {
  "kernelspec": {
   "display_name": "env",
   "language": "python",
   "name": "python3"
  },
  "language_info": {
   "codemirror_mode": {
    "name": "ipython",
    "version": 3
   },
   "file_extension": ".py",
   "mimetype": "text/x-python",
   "name": "python",
   "nbconvert_exporter": "python",
   "pygments_lexer": "ipython3",
   "version": "3.11.9"
  }
 },
 "nbformat": 4,
 "nbformat_minor": 2
}
